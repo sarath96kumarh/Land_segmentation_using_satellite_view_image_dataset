{
 "cells": [
  {
   "cell_type": "code",
   "execution_count": 5,
   "metadata": {},
   "outputs": [],
   "source": [
    "import numpy as np\n",
    "import scipy.io as sio\n",
    "import sklearn as sk\n",
    "import pandas as pd\n",
    "import pywt\n",
    "\n",
    "from sklearn.decomposition import PCA\n",
    "from sklearn.discriminant_analysis import LinearDiscriminantAnalysis\n",
    "\n",
    "from sklearn.model_selection import train_test_split\n",
    "\n",
    "from sklearn.ensemble import RandomForestClassifier\n",
    "from sklearn.ensemble import AdaBoostClassifier\n",
    "from sklearn import neighbors\n",
    "from sklearn.svm import SVC\n",
    "\n",
    "from sklearn.datasets import make_classification\n",
    "\n",
    "from sklearn import metrics\n",
    "\n",
    "import warnings\n",
    "warnings.filterwarnings(\"ignore\")"
   ]
  },
  {
   "cell_type": "code",
   "execution_count": 6,
   "metadata": {},
   "outputs": [
    {
     "name": "stdout",
     "output_type": "stream",
     "text": [
      "(610, 340, 103)\n"
     ]
    }
   ],
   "source": [
    "hsi_data=sio.loadmat('PaviaU.mat')\n",
    "PaviaU_data=hsi_data[\"paviaU\"]\n",
    "dim=PaviaU_data.shape\n",
    "print(dim)"
   ]
  },
  {
   "cell_type": "code",
   "execution_count": 7,
   "metadata": {},
   "outputs": [
    {
     "name": "stdout",
     "output_type": "stream",
     "text": [
      "(207400, 1)\n",
      "[0 1 2 3 4 5 6 7 8 9]\n"
     ]
    }
   ],
   "source": [
    "hsi_gt=sio.loadmat(\"PaviaU_gt.mat\")\n",
    "hsi_gt_arr=hsi_gt['paviaU_gt']\n",
    "y=np.reshape(hsi_gt_arr,(dim[0]*dim[1],1))\n",
    "print(y.shape)\n",
    "print(np.unique(y))"
   ]
  },
  {
   "cell_type": "code",
   "execution_count": 8,
   "metadata": {},
   "outputs": [
    {
     "name": "stdout",
     "output_type": "stream",
     "text": [
      "(207400, 103)\n"
     ]
    }
   ],
   "source": [
    "twoD_dim=(dim[0]*dim[1],dim[2])\n",
    "twoD_hsi_data=np.zeros(twoD_dim)\n",
    "k=0;\n",
    "for i in range(0,dim[0]):\n",
    "    for j in range(0,dim[1]):\n",
    "        twoD_hsi_data[k,:]=PaviaU_data[i,j,:]\n",
    "        k=k+1\n",
    "    \n",
    "print(twoD_hsi_data.shape)"
   ]
  },
  {
   "cell_type": "code",
   "execution_count": 9,
   "metadata": {},
   "outputs": [],
   "source": [
    "twoD_hsi_data_100=twoD_hsi_data[:,0:100]"
   ]
  },
  {
   "cell_type": "code",
   "execution_count": 10,
   "metadata": {},
   "outputs": [],
   "source": [
    "twoD_dim=twoD_hsi_data_100.shape"
   ]
  },
  {
   "cell_type": "code",
   "execution_count": 11,
   "metadata": {},
   "outputs": [
    {
     "data": {
      "text/plain": [
       "(207400, 100)"
      ]
     },
     "execution_count": 11,
     "metadata": {},
     "output_type": "execute_result"
    }
   ],
   "source": [
    "twoD_dim"
   ]
  },
  {
   "cell_type": "code",
   "execution_count": 12,
   "metadata": {},
   "outputs": [
    {
     "name": "stdout",
     "output_type": "stream",
     "text": [
      "(207400, 400)\n"
     ]
    }
   ],
   "source": [
    "db1=pywt.Wavelet('db1')\n",
    "s=(twoD_dim[0],4*twoD_dim[1])\n",
    "coefsi=np.zeros(s)\n",
    "db1=pywt.Wavelet('db1')\n",
    "for i in range(0,twoD_dim[0]):\n",
    "    temp=pywt.swt(twoD_hsi_data_100[i,:],db1,level=2,axis=-1)\n",
    "    coefsi[i,:]=np.ndarray.flatten(np.array(temp))\n",
    "  \n",
    "print(np.array(coefsi).shape)"
   ]
  },
  {
   "cell_type": "code",
   "execution_count": 13,
   "metadata": {},
   "outputs": [],
   "source": [
    "s=(610,340,400)\n",
    "Coefsi_3d_paviaU=np.zeros(s)\n",
    "for i in range(0,400):\n",
    "  Coefsi_3d_paviaU[:,:,i]=np.reshape(coefsi[:,i],(610,340))"
   ]
  },
  {
   "cell_type": "code",
   "execution_count": 14,
   "metadata": {},
   "outputs": [],
   "source": [
    "sio.savemat(\"Coefsi_3d_paviaU.mat\",{\"coefsi_3d_paviaU\":Coefsi_3d_paviaU})"
   ]
  },
  {
   "cell_type": "code",
   "execution_count": 15,
   "metadata": {},
   "outputs": [],
   "source": [
    "def loadPaviaUData():\n",
    "\n",
    "    data = sio.loadmat(os.path.join(\n",
    "                      'Coefsi_3d_paviaU.mat'))['coefsi_3d_paviaU']\n",
    "    labels = sio.loadmat(os.path.join(\n",
    "                        'PaviaU_gt.mat'))['paviaU_gt']\n",
    "    \n",
    "    return data, labels"
   ]
  },
  {
   "cell_type": "code",
   "execution_count": 16,
   "metadata": {},
   "outputs": [],
   "source": [
    "#  split data to Train and Test Set\n",
    "def splitTrainTestSet(X, y, classnum=9, testRatio=0.20):\n",
    "#     X_train, X_test, y_train, y_test = train_test_split(X, y, \n",
    "#                                test_size=testRatio, random_state=345, stratify=y)\n",
    "    ss=StratifiedShuffleSplit(n_splits=classnum, test_size=testRatio, \n",
    "                              train_size=1-testRatio, random_state=0)\n",
    "    \n",
    "    for train_index, test_index in ss.split(X, y):\n",
    "        print(\"TRAIN:\", train_index, \"TEST:\", test_index)\n",
    "        X_train, X_test = X[train_index], X[test_index]\n",
    "        y_train, y_test = y[train_index], y[test_index]\n",
    "        \n",
    "    return X_train, X_test, y_train, y_test"
   ]
  },
  {
   "cell_type": "code",
   "execution_count": 17,
   "metadata": {},
   "outputs": [],
   "source": [
    "#  over sample \n",
    "def oversampleWeakClasses(X, y):\n",
    "    uniqueLabels, labelCounts = np.unique(y, return_counts=True)\n",
    "    maxCount = np.max(labelCounts)\n",
    "    labelInverseRatios = maxCount / labelCounts  \n",
    "    # repeat for every label and concat\n",
    "    newX = X[y == uniqueLabels[0], :, :, :].repeat(round(labelInverseRatios[0]), \n",
    "                                                   axis=0)\n",
    "    newY = y[y == uniqueLabels[0]].repeat(round(labelInverseRatios[0]), axis=0)\n",
    "    for label, labelInverseRatio in zip(uniqueLabels[1:], labelInverseRatios[1:]):\n",
    "        cX = X[y== label,:,:,:].repeat(round(labelInverseRatio), axis=0)\n",
    "        cY = y[y == label].repeat(round(labelInverseRatio), axis=0)\n",
    "        newX = np.concatenate((newX, cX))\n",
    "        newY = np.concatenate((newY, cY))\n",
    "    np.random.seed(seed=42)\n",
    "    rand_perm = np.random.permutation(newY.shape[0])\n",
    "    newX = newX[rand_perm, :, :, :]\n",
    "    newY = newY[rand_perm]\n",
    "    return newX, newY"
   ]
  },
  {
   "cell_type": "code",
   "execution_count": 18,
   "metadata": {},
   "outputs": [],
   "source": [
    "def standartizeData(X):\n",
    "    newX = np.reshape(X, (-1, X.shape[2]))\n",
    "    scaler = preprocessing.StandardScaler().fit(newX)  \n",
    "    newX = scaler.transform(newX)\n",
    "    newX = np.reshape(newX, (X.shape[0],X.shape[1],X.shape[2]))\n",
    "    return newX, scaler"
   ]
  },
  {
   "cell_type": "code",
   "execution_count": 19,
   "metadata": {},
   "outputs": [],
   "source": [
    "#  apply PCA preprocessing for data sets\n",
    "def applyPCA(X, numComponents=100):\n",
    "    newX = np.reshape(X, (-1, X.shape[2]))\n",
    "    pca = PCA(n_components=numComponents, whiten=True)\n",
    "    newX = pca.fit_transform(newX)\n",
    "    newX = np.reshape(newX, (X.shape[0],X.shape[1], numComponents))\n",
    "    return newX, pca"
   ]
  },
  {
   "cell_type": "code",
   "execution_count": 20,
   "metadata": {},
   "outputs": [],
   "source": [
    "#  pad zeros to dataset\n",
    "def padWithZeros(X, margin=2):\n",
    "    newX = np.zeros((X.shape[0] + 2 * margin, X.shape[1] + 2* margin, \n",
    "                     X.shape[2]))\n",
    "    x_offset = margin\n",
    "    y_offset = margin\n",
    "    newX[x_offset:X.shape[0] + x_offset, y_offset:X.shape[1] + \n",
    "         y_offset, :] = X\n",
    "    return newX"
   ]
  },
  {
   "cell_type": "code",
   "execution_count": 21,
   "metadata": {},
   "outputs": [],
   "source": [
    "#  create Patches for dataset\n",
    "def createPatches(X, y, windowSize=5, removeZeroLabels = True):\n",
    "    margin = int((windowSize - 1) / 2)\n",
    "    zeroPaddedX = padWithZeros(X, margin=margin)\n",
    "    # split patches\n",
    "    patchesData = np.zeros((X.shape[0] * X.shape[1], windowSize, \n",
    "                            windowSize, X.shape[2]))\n",
    "    patchesLabels = np.zeros((X.shape[0] * X.shape[1]))\n",
    "    patchIndex = 0\n",
    "    for r in range(margin, zeroPaddedX.shape[0] - margin):\n",
    "        for c in range(margin, zeroPaddedX.shape[1] - margin):\n",
    "            patch = zeroPaddedX[r - margin:r + margin + 1, c - \n",
    "                                margin:c + margin + 1]   \n",
    "            patchesData[patchIndex, :, :, :] = patch\n",
    "            patchesLabels[patchIndex] = y[r-margin, c-margin]\n",
    "            patchIndex = patchIndex + 1\n",
    "    if removeZeroLabels:\n",
    "        patchesData = patchesData[patchesLabels>0,:,:,:]\n",
    "        patchesLabels = patchesLabels[patchesLabels>0]\n",
    "        patchesLabels -= 1\n",
    "    return patchesData, patchesLabels"
   ]
  },
  {
   "cell_type": "code",
   "execution_count": 22,
   "metadata": {},
   "outputs": [],
   "source": [
    "#  Augment Data\n",
    "def AugmentData(X_train):\n",
    "    for i in range(int(X_train.shape[0]/2)):\n",
    "        patch = X_train[i,:,:,:]\n",
    "        num = random.randint(0,2)\n",
    "        if (num == 0):\n",
    "            \n",
    "            flipped_patch = np.flipud(patch)\n",
    "        if (num == 1):\n",
    "            \n",
    "            flipped_patch = np.fliplr(patch)\n",
    "        if (num == 2):\n",
    "            \n",
    "            no = random.randrange(-180,180,100)\n",
    "            flipped_patch = scipy.ndimage.interpolation.rotate(patch, \n",
    "                            no,axes=(1, 0), reshape=False, output=None, \n",
    "                            order=3, mode='constant', cval=0.0, prefilter=False)\n",
    "        \n",
    "    patch2 = flipped_patch\n",
    "    X_train[i,:,:,:] = patch2\n",
    "    \n",
    "    return X_train"
   ]
  },
  {
   "cell_type": "code",
   "execution_count": 23,
   "metadata": {},
   "outputs": [],
   "source": [
    "def savePreprocessedData(path, X_trainPatches, X_testPatches, y_trainPatches, \n",
    "                         y_testPatches, X_all, y_all, windowSize, wasPCAapplied = False, \n",
    "                         numPCAComponents = 0, testRatio = 0.20):\n",
    "    \n",
    "    \n",
    "\n",
    "    if wasPCAapplied:\n",
    "        with open(os.path.join(\"XtrainWindowSize\") + str(windowSize) + \n",
    "                  \"PCA\" + str(numPCAComponents) + \"testRatio\" + str(testRatio) + \n",
    "                  \".npy\", 'bw') as outfile:\n",
    "            np.save(outfile, X_trainPatches)\n",
    "        with open(os.path.join( \"XtestWindowSize\") + str(windowSize) + \n",
    "                  \"PCA\" + str(numPCAComponents) + \"testRatio\" + str(testRatio) + \n",
    "                  \".npy\", 'bw') as outfile:\n",
    "            np.save(outfile, X_testPatches)\n",
    "        with open(os.path.join( \"ytrainWindowSize\") + str(windowSize) + \n",
    "                  \"PCA\" + str(numPCAComponents) + \"testRatio\" + str(testRatio) + \n",
    "                  \".npy\", 'bw') as outfile:\n",
    "            np.save(outfile, y_trainPatches)\n",
    "        with open(os.path.join(\"ytestWindowSize\") + str(windowSize) + \n",
    "                  \"PCA\" + str(numPCAComponents) + \"testRatio\" + str(testRatio) + \n",
    "                  \".npy\", 'bw') as outfile:\n",
    "            np.save(outfile, y_testPatches)\n",
    "        \n",
    "        with open(os.path.join( \"XAllWindowSize\") + str(windowSize) + \n",
    "                  \"PCA\" + str(numPCAComponents) + \"testRatio\" + str(testRatio) + \n",
    "                  \".npy\", 'bw') as outfile:\n",
    "            np.save(outfile, X_all)\n",
    "        with open(os.path.join(\"yAllWindowSize\") + str(windowSize) + \n",
    "                  \"PCA\" + str(numPCAComponents) + \"testRatio\" + str(testRatio) + \n",
    "                  \".npy\", 'bw') as outfile:\n",
    "            np.save(outfile, y_all)\n",
    "    else:\n",
    "        with open(os.path.join(\"preXtrainWindowSize\") + str(windowSize) + \n",
    "                  \".npy\", 'bw') as outfile:\n",
    "            np.save(outfile, X_trainPatches)\n",
    "        with open(os.path.join( \"preXtestWindowSize\") + str(windowSize) + \n",
    "                  \".npy\", 'bw') as outfile:\n",
    "            np.save(outfile, X_testPatches)\n",
    "        with open(os.path.join( \"preytrainWindowSize\") + str(windowSize) + \n",
    "                  \".npy\", 'bw') as outfile:\n",
    "            np.save(outfile, y_trainPatches)\n",
    "        with open(os.path.join( \"preytestWindowSize\") + str(windowSize) + \n",
    "                  \".npy\", 'bw') as outfile:\n",
    "            np.save(outfile, y_testPatches)"
   ]
  },
  {
   "cell_type": "code",
   "execution_count": 24,
   "metadata": {},
   "outputs": [],
   "source": [
    "# Global Variables\n",
    "# The number of principal components to be retained in the PCA algorithm, \n",
    "# the number of retained features  n\n",
    "numComponents = 100\n",
    "# Patches windows size\n",
    "windowSize = 5\n",
    "# The proportion of Test sets\n",
    "testRatio = 0.20"
   ]
  },
  {
   "cell_type": "code",
   "execution_count": 25,
   "metadata": {},
   "outputs": [],
   "source": [
    "import os\n",
    "# Load dataset from file and apply PCA\n",
    "#X, y = loadHSIData()\n",
    "X,y = loadPaviaUData()\n",
    "X, pca = applyPCA(X, numComponents=numComponents)"
   ]
  },
  {
   "cell_type": "code",
   "execution_count": 26,
   "metadata": {},
   "outputs": [
    {
     "name": "stdout",
     "output_type": "stream",
     "text": [
      "Requirement already satisfied: spectral in /mnt/disks/user/anaconda3/lib/python3.6/site-packages (0.19)\n",
      "Requirement already satisfied: numpy in /mnt/disks/user/anaconda3/lib/python3.6/site-packages (from spectral) (1.14.5)\n",
      "\u001b[33mYou are using pip version 18.0, however version 18.1 is available.\n",
      "You should consider upgrading via the 'pip install --upgrade pip' command.\u001b[0m\n"
     ]
    }
   ],
   "source": [
    "!pip install spectral\n",
    "import numpy as np\n",
    "from sklearn.decomposition import PCA\n",
    "import scipy.io as sio\n",
    "from sklearn.model_selection import train_test_split, StratifiedShuffleSplit\n",
    "import os\n",
    "\n",
    "from sklearn import preprocessing\n",
    "import os\n",
    "import random\n",
    "from random import shuffle\n",
    "from skimage.transform import rotate\n",
    "import scipy.ndimage\n",
    "from spectral import *"
   ]
  },
  {
   "cell_type": "code",
   "execution_count": 27,
   "metadata": {},
   "outputs": [
    {
     "name": "stdout",
     "output_type": "stream",
     "text": [
      "TRAIN: [ 2475 33602  8009 ... 32223  6300 29867] TEST: [24728  2652 35792 ...  4622 21961 29396]\n",
      "TRAIN: [36369 12882  6050 ... 39972 10721 30970] TEST: [37602  7784 38717 ... 14002  8215 10662]\n",
      "TRAIN: [22466 31881 18882 ... 22731 35414 41382] TEST: [31511 27080 33684 ... 33476  5349 14252]\n",
      "TRAIN: [40356 32247  1521 ... 19131  8670 21446] TEST: [32246 13943 24532 ... 34180  4199 16107]\n",
      "TRAIN: [ 4351  1683 38375 ... 15984 16866 25166] TEST: [23052  7459 36072 ... 15326 24838 29557]\n",
      "TRAIN: [26657 37260 15698 ...  2228 27529 38144] TEST: [27261 33650 19373 ... 41071  4361 23936]\n",
      "TRAIN: [41113   945  8880 ... 30640  2288 23600] TEST: [26159 31612 21923 ... 39952  1296  2860]\n",
      "TRAIN: [13509 12503 41168 ... 41952 21861 32637] TEST: [21903 37226 21085 ... 28017 26957  3374]\n",
      "TRAIN: [39232 22557 37499 ... 25640  8807  4697] TEST: [ 1698  7910 10687 ... 42628 38116 32493]\n",
      "TRAIN: [ 2475 33602  8009 ... 32223  6300 29867] TEST: [24728  2652 35792 ...  4622 21961 29396]\n",
      "TRAIN: [36369 12882  6050 ... 39972 10721 30970] TEST: [37602  7784 38717 ... 14002  8215 10662]\n",
      "TRAIN: [22466 31881 18882 ... 22731 35414 41382] TEST: [31511 27080 33684 ... 33476  5349 14252]\n",
      "TRAIN: [40356 32247  1521 ... 19131  8670 21446] TEST: [32246 13943 24532 ... 34180  4199 16107]\n",
      "TRAIN: [ 4351  1683 38375 ... 15984 16866 25166] TEST: [23052  7459 36072 ... 15326 24838 29557]\n",
      "TRAIN: [26657 37260 15698 ...  2228 27529 38144] TEST: [27261 33650 19373 ... 41071  4361 23936]\n",
      "TRAIN: [41113   945  8880 ... 30640  2288 23600] TEST: [26159 31612 21923 ... 39952  1296  2860]\n",
      "TRAIN: [13509 12503 41168 ... 41952 21861 32637] TEST: [21903 37226 21085 ... 28017 26957  3374]\n",
      "TRAIN: [39232 22557 37499 ... 25640  8807  4697] TEST: [ 1698  7910 10687 ... 42628 38116 32493]\n"
     ]
    }
   ],
   "source": [
    "# Preprocess Data\n",
    "XPatches, yPatches = createPatches(X, y, windowSize=windowSize)\n",
    "X_train, X_test, y_train, y_test = splitTrainTestSet(XPatches, yPatches,y.max()-y.min(), testRatio) \n",
    "                                              # Preprocess Data\n",
    "XPatches, yPatches = createPatches(X, y, windowSize=windowSize)\n",
    "X_train, X_test, y_train, y_test = splitTrainTestSet(XPatches, yPatches, \n",
    "                                                     y.max()-y.min(), testRatio)\n",
    "X_all = np.append(X_train, X_test, axis=0)\n",
    "y_all = np.append(y_train, y_test, axis=0)\n",
    "X_train, y_train = oversampleWeakClasses(X_train, y_train)\n",
    "# X_all, y_all = oversampleWeakClasses(X_all, y_all)\n",
    "X_train = AugmentData(X_train)\n",
    "# X_all = AugmentData(X_all)       y.max()-y.min(), testRatio)\n",
    "X_all = np.append(X_train, X_test, axis=0)\n",
    "y_all = np.append(y_train, y_test, axis=0)\n",
    "X_train, y_train = oversampleWeakClasses(X_train, y_train)\n",
    "# X_all, y_all = oversampleWeakClasses(X_all, y_all)\n",
    "X_train = AugmentData(X_train)\n",
    "# X_all = AugmentData(X_all)"
   ]
  },
  {
   "cell_type": "code",
   "execution_count": 28,
   "metadata": {},
   "outputs": [],
   "source": [
    "# save Preprocessed Data to file\n",
    "savePreprocessedData('predata', X_train, X_test, y_train, y_test, \n",
    "                     X_all, y_all, windowSize = windowSize, \n",
    "                     wasPCAapplied=True, numPCAComponents = numComponents, \n",
    "                     testRatio = testRatio)"
   ]
  },
  {
   "cell_type": "code",
   "execution_count": 29,
   "metadata": {},
   "outputs": [
    {
     "name": "stderr",
     "output_type": "stream",
     "text": [
      "Using TensorFlow backend.\n"
     ]
    }
   ],
   "source": [
    "# Import the necessary libraries\n",
    "import numpy as np\n",
    "import scipy\n",
    "import os\n",
    "from keras.models import Sequential\n",
    "from keras.layers import Dense, Dropout, Flatten\n",
    "from keras.layers import Conv2D, MaxPooling2D\n",
    "from keras.optimizers import SGD\n",
    "from keras.callbacks import ReduceLROnPlateau, ModelCheckpoint\n",
    "from keras import backend as K\n",
    "K.set_image_dim_ordering('th')\n",
    "from keras.utils import np_utils\n",
    "from keras.layers import LeakyReLU\n",
    "#from sklearn.cross_validation import StratifiedKFold"
   ]
  },
  {
   "cell_type": "code",
   "execution_count": 30,
   "metadata": {},
   "outputs": [],
   "source": [
    "# Global Variables\n",
    "# The number of principal components to be retained in the PCA algorithm, \n",
    "# the number of retained features  n\n",
    "numPCAcomponents = 100\n",
    "# Patches windows size\n",
    "windowSize = 5\n",
    "# The proportion of Test sets\n",
    "testRatio = 0.20"
   ]
  },
  {
   "cell_type": "code",
   "execution_count": 31,
   "metadata": {},
   "outputs": [],
   "source": [
    "# load Preprocessed data from file\n",
    "X_train = np.load(\"XtrainWindowSize\" \n",
    "                  + str(windowSize) + \"PCA\" + str(numPCAcomponents) + \n",
    "                  \"testRatio\" + str(testRatio)  + \".npy\")\n",
    "y_train = np.load(\"ytrainWindowSize\" \n",
    "                  + str(windowSize) + \"PCA\" + str(numPCAcomponents) + \n",
    "                  \"testRatio\" + str(testRatio) + \".npy\")\n",
    "X_test = np.load(\"XtestWindowSize\" \n",
    "                  + str(windowSize) + \"PCA\" + str(numPCAcomponents) + \n",
    "                 \"testRatio\" + str(testRatio)  + \".npy\")\n",
    "y_test = np.load(\"ytestWindowSize\" \n",
    "                  + str(windowSize) + \"PCA\" + str(numPCAcomponents) + \n",
    "                 \"testRatio\" + str(testRatio) + \".npy\")"
   ]
  },
  {
   "cell_type": "code",
   "execution_count": 32,
   "metadata": {},
   "outputs": [
    {
     "name": "stdout",
     "output_type": "stream",
     "text": [
      "(100, 5, 5)\n"
     ]
    }
   ],
   "source": [
    "# Reshape data into (numberofsumples, channels, height, width)\n",
    "X_train = np.reshape(X_train, (X_train.shape[0], X_train.shape[3], \n",
    "                               X_train.shape[1], X_train.shape[2]))\n",
    "X_test = np.reshape(X_test, (X_test.shape[0],X_test.shape[3], \n",
    "                             X_test.shape[1], X_test.shape[2]))\n",
    "\n",
    "# convert class labels to on-hot encoding\n",
    "y_train = np_utils.to_categorical(y_train)\n",
    "y_test = np_utils.to_categorical(y_test)\n",
    "\n",
    "# Define the input shape \n",
    "input_shape= X_train[0].shape\n",
    "print(input_shape)\n",
    "\n",
    "# number of filters\n",
    "C1 = 3*numPCAcomponents"
   ]
  },
  {
   "cell_type": "code",
   "execution_count": 33,
   "metadata": {},
   "outputs": [],
   "source": [
    "# Define the model structure\n",
    "model = Sequential()\n",
    "\n",
    "model.add(Conv2D(C1, (3, 3), activation='relu', input_shape=input_shape))\n",
    "model.add(Conv2D(3*C1, (3, 3), activation='relu'))\n",
    "model.add(Dropout(0.25))\n",
    "\n",
    "model.add(Flatten())\n",
    "model.add(Dense(6*numPCAcomponents, activation='relu'))\n",
    "model.add(Dropout(0.5))\n",
    "model.add(Dense(9, activation='softmax'))\n",
    "\n",
    "# Define optimization and train method"
   ]
  },
  {
   "cell_type": "code",
   "execution_count": 34,
   "metadata": {},
   "outputs": [],
   "source": [
    "# Define optimization and train method\n",
    "reduce_lr = ReduceLROnPlateau(monitor='val_acc', factor=0.9, patience=25, \n",
    "                              min_lr=0.000001, verbose=1)\n",
    "checkpointer = ModelCheckpoint(filepath=\"checkpoint.hdf5\", verbose=1, \n",
    "                              save_best_only=False)\n",
    "sgd = SGD(lr=0.001, decay=1e-6, momentum=0.9, nesterov=True)\n",
    "model.compile(loss='categorical_crossentropy', optimizer=sgd, \n",
    "                              metrics=['accuracy'])"
   ]
  },
  {
   "cell_type": "code",
   "execution_count": 35,
   "metadata": {},
   "outputs": [
    {
     "name": "stdout",
     "output_type": "stream",
     "text": [
      "Train on 136588 samples, validate on 8556 samples\n",
      "Epoch 1/100\n",
      "136588/136588 [==============================] - 62s 455us/step - loss: 0.2010 - acc: 0.9328 - val_loss: 0.0576 - val_acc: 0.9795\n",
      "\n",
      "Epoch 00001: saving model to checkpoint.hdf5\n",
      "Epoch 2/100\n",
      "136588/136588 [==============================] - 52s 380us/step - loss: 0.0134 - acc: 0.9972 - val_loss: 0.0555 - val_acc: 0.9820\n",
      "\n",
      "Epoch 00002: saving model to checkpoint.hdf5\n",
      "Epoch 3/100\n",
      "136588/136588 [==============================] - 52s 380us/step - loss: 0.0048 - acc: 0.9992 - val_loss: 0.0585 - val_acc: 0.9832\n",
      "\n",
      "Epoch 00003: saving model to checkpoint.hdf5\n",
      "Epoch 4/100\n",
      "136588/136588 [==============================] - 52s 381us/step - loss: 0.0029 - acc: 0.9996 - val_loss: 0.0578 - val_acc: 0.9835\n",
      "\n",
      "Epoch 00004: saving model to checkpoint.hdf5\n",
      "Epoch 5/100\n",
      "136588/136588 [==============================] - 52s 382us/step - loss: 0.0017 - acc: 0.9998 - val_loss: 0.0587 - val_acc: 0.9836\n",
      "\n",
      "Epoch 00005: saving model to checkpoint.hdf5\n",
      "Epoch 6/100\n",
      "136588/136588 [==============================] - 52s 383us/step - loss: 0.0014 - acc: 0.9998 - val_loss: 0.0620 - val_acc: 0.9831\n",
      "\n",
      "Epoch 00006: saving model to checkpoint.hdf5\n",
      "Epoch 7/100\n",
      "136588/136588 [==============================] - 52s 381us/step - loss: 0.0011 - acc: 0.9999 - val_loss: 0.0645 - val_acc: 0.9840\n",
      "\n",
      "Epoch 00007: saving model to checkpoint.hdf5\n",
      "Epoch 8/100\n",
      "136588/136588 [==============================] - 52s 382us/step - loss: 8.4648e-04 - acc: 0.9999 - val_loss: 0.0631 - val_acc: 0.9846\n",
      "\n",
      "Epoch 00008: saving model to checkpoint.hdf5\n",
      "Epoch 9/100\n",
      "136588/136588 [==============================] - 52s 381us/step - loss: 6.9060e-04 - acc: 0.9999 - val_loss: 0.0637 - val_acc: 0.9843\n",
      "\n",
      "Epoch 00009: saving model to checkpoint.hdf5\n",
      "Epoch 10/100\n",
      "136588/136588 [==============================] - 52s 381us/step - loss: 5.7072e-04 - acc: 0.9999 - val_loss: 0.0660 - val_acc: 0.9838\n",
      "\n",
      "Epoch 00010: saving model to checkpoint.hdf5\n",
      "Epoch 11/100\n",
      "136588/136588 [==============================] - 52s 382us/step - loss: 6.1876e-04 - acc: 0.9999 - val_loss: 0.0644 - val_acc: 0.9846\n",
      "\n",
      "Epoch 00011: saving model to checkpoint.hdf5\n",
      "Epoch 12/100\n",
      "136588/136588 [==============================] - 53s 385us/step - loss: 4.7275e-04 - acc: 1.0000 - val_loss: 0.0654 - val_acc: 0.9843\n",
      "\n",
      "Epoch 00012: saving model to checkpoint.hdf5\n",
      "Epoch 13/100\n",
      "136588/136588 [==============================] - 52s 380us/step - loss: 4.0369e-04 - acc: 1.0000 - val_loss: 0.0683 - val_acc: 0.9841\n",
      "\n",
      "Epoch 00013: saving model to checkpoint.hdf5\n",
      "Epoch 14/100\n",
      "136588/136588 [==============================] - 52s 382us/step - loss: 3.6619e-04 - acc: 1.0000 - val_loss: 0.0670 - val_acc: 0.9845\n",
      "\n",
      "Epoch 00014: saving model to checkpoint.hdf5\n",
      "Epoch 15/100\n",
      "136588/136588 [==============================] - 52s 381us/step - loss: 3.5447e-04 - acc: 1.0000 - val_loss: 0.0661 - val_acc: 0.9845\n",
      "\n",
      "Epoch 00015: saving model to checkpoint.hdf5\n",
      "Epoch 16/100\n",
      "136588/136588 [==============================] - 52s 381us/step - loss: 3.8439e-04 - acc: 1.0000 - val_loss: 0.0684 - val_acc: 0.9852\n",
      "\n",
      "Epoch 00016: saving model to checkpoint.hdf5\n",
      "Epoch 17/100\n",
      "136588/136588 [==============================] - 52s 381us/step - loss: 2.7752e-04 - acc: 1.0000 - val_loss: 0.0678 - val_acc: 0.9848\n",
      "\n",
      "Epoch 00017: saving model to checkpoint.hdf5\n",
      "Epoch 18/100\n",
      "136588/136588 [==============================] - 52s 384us/step - loss: 2.4145e-04 - acc: 1.0000 - val_loss: 0.0680 - val_acc: 0.9847\n",
      "\n",
      "Epoch 00018: saving model to checkpoint.hdf5\n",
      "Epoch 19/100\n",
      "136588/136588 [==============================] - 52s 383us/step - loss: 2.7652e-04 - acc: 1.0000 - val_loss: 0.0685 - val_acc: 0.9850\n",
      "\n",
      "Epoch 00019: saving model to checkpoint.hdf5\n",
      "Epoch 20/100\n",
      "136588/136588 [==============================] - 52s 381us/step - loss: 2.1220e-04 - acc: 1.0000 - val_loss: 0.0691 - val_acc: 0.9849\n",
      "\n",
      "Epoch 00020: saving model to checkpoint.hdf5\n",
      "Epoch 21/100\n",
      "136588/136588 [==============================] - 52s 381us/step - loss: 2.1306e-04 - acc: 1.0000 - val_loss: 0.0705 - val_acc: 0.9845\n",
      "\n",
      "Epoch 00021: saving model to checkpoint.hdf5\n",
      "Epoch 22/100\n",
      "136588/136588 [==============================] - 52s 383us/step - loss: 2.3133e-04 - acc: 1.0000 - val_loss: 0.0702 - val_acc: 0.9845\n",
      "\n",
      "Epoch 00022: saving model to checkpoint.hdf5\n",
      "Epoch 23/100\n",
      "136588/136588 [==============================] - 52s 381us/step - loss: 1.7033e-04 - acc: 1.0000 - val_loss: 0.0698 - val_acc: 0.9849\n",
      "\n",
      "Epoch 00023: saving model to checkpoint.hdf5\n",
      "Epoch 24/100\n",
      "136588/136588 [==============================] - 52s 383us/step - loss: 1.7228e-04 - acc: 1.0000 - val_loss: 0.0715 - val_acc: 0.9843\n",
      "\n",
      "Epoch 00024: saving model to checkpoint.hdf5\n",
      "Epoch 25/100\n",
      "136588/136588 [==============================] - 52s 381us/step - loss: 1.8226e-04 - acc: 1.0000 - val_loss: 0.0698 - val_acc: 0.9846\n",
      "\n",
      "Epoch 00025: saving model to checkpoint.hdf5\n",
      "Epoch 26/100\n",
      "136588/136588 [==============================] - 52s 381us/step - loss: 1.5968e-04 - acc: 1.0000 - val_loss: 0.0705 - val_acc: 0.9847\n",
      "\n",
      "Epoch 00026: saving model to checkpoint.hdf5\n",
      "Epoch 27/100\n",
      "136588/136588 [==============================] - 52s 380us/step - loss: 1.7895e-04 - acc: 1.0000 - val_loss: 0.0719 - val_acc: 0.9845\n",
      "\n",
      "Epoch 00027: saving model to checkpoint.hdf5\n",
      "Epoch 28/100\n",
      "136588/136588 [==============================] - 52s 381us/step - loss: 1.4419e-04 - acc: 1.0000 - val_loss: 0.0708 - val_acc: 0.9852\n",
      "\n",
      "Epoch 00028: saving model to checkpoint.hdf5\n",
      "Epoch 29/100\n",
      "136588/136588 [==============================] - 52s 382us/step - loss: 1.3240e-04 - acc: 1.0000 - val_loss: 0.0745 - val_acc: 0.9841\n",
      "\n",
      "Epoch 00029: saving model to checkpoint.hdf5\n",
      "Epoch 30/100\n",
      "136588/136588 [==============================] - 52s 382us/step - loss: 1.1949e-04 - acc: 1.0000 - val_loss: 0.0742 - val_acc: 0.9841\n",
      "\n",
      "Epoch 00030: saving model to checkpoint.hdf5\n",
      "Epoch 31/100\n",
      "136588/136588 [==============================] - 52s 380us/step - loss: 1.1363e-04 - acc: 1.0000 - val_loss: 0.0730 - val_acc: 0.9846\n",
      "\n",
      "Epoch 00031: saving model to checkpoint.hdf5\n",
      "Epoch 32/100\n",
      "136588/136588 [==============================] - 52s 381us/step - loss: 1.1255e-04 - acc: 1.0000 - val_loss: 0.0740 - val_acc: 0.9845\n",
      "\n",
      "Epoch 00032: saving model to checkpoint.hdf5\n",
      "Epoch 33/100\n",
      "136588/136588 [==============================] - 52s 380us/step - loss: 1.2060e-04 - acc: 1.0000 - val_loss: 0.0726 - val_acc: 0.9847\n",
      "\n",
      "Epoch 00033: saving model to checkpoint.hdf5\n",
      "Epoch 34/100\n",
      "136588/136588 [==============================] - 52s 380us/step - loss: 1.2117e-04 - acc: 1.0000 - val_loss: 0.0721 - val_acc: 0.9847\n",
      "\n",
      "Epoch 00034: saving model to checkpoint.hdf5\n",
      "Epoch 35/100\n",
      "136588/136588 [==============================] - 52s 384us/step - loss: 1.0701e-04 - acc: 1.0000 - val_loss: 0.0721 - val_acc: 0.9847\n",
      "\n",
      "Epoch 00035: saving model to checkpoint.hdf5\n",
      "Epoch 36/100\n",
      "136588/136588 [==============================] - 52s 382us/step - loss: 9.8293e-05 - acc: 1.0000 - val_loss: 0.0745 - val_acc: 0.9846\n",
      "\n",
      "Epoch 00036: saving model to checkpoint.hdf5\n",
      "Epoch 37/100\n",
      "136588/136588 [==============================] - 52s 381us/step - loss: 1.1493e-04 - acc: 1.0000 - val_loss: 0.0744 - val_acc: 0.9846\n",
      "\n",
      "Epoch 00037: saving model to checkpoint.hdf5\n",
      "Epoch 38/100\n",
      "136588/136588 [==============================] - 52s 381us/step - loss: 1.1573e-04 - acc: 1.0000 - val_loss: 0.0743 - val_acc: 0.9847\n",
      "\n",
      "Epoch 00038: saving model to checkpoint.hdf5\n",
      "Epoch 39/100\n",
      "136588/136588 [==============================] - 52s 382us/step - loss: 9.7520e-05 - acc: 1.0000 - val_loss: 0.0750 - val_acc: 0.9846\n",
      "\n",
      "Epoch 00039: saving model to checkpoint.hdf5\n",
      "Epoch 40/100\n",
      "136588/136588 [==============================] - 52s 382us/step - loss: 9.6712e-05 - acc: 1.0000 - val_loss: 0.0741 - val_acc: 0.9846\n",
      "\n",
      "Epoch 00040: saving model to checkpoint.hdf5\n",
      "Epoch 41/100\n",
      "136588/136588 [==============================] - 53s 385us/step - loss: 1.1661e-04 - acc: 1.0000 - val_loss: 0.0752 - val_acc: 0.9846\n",
      "\n",
      "Epoch 00041: ReduceLROnPlateau reducing learning rate to 0.0009000000427477062.\n",
      "\n",
      "Epoch 00041: saving model to checkpoint.hdf5\n",
      "Epoch 42/100\n",
      "136588/136588 [==============================] - 52s 381us/step - loss: 8.3908e-05 - acc: 1.0000 - val_loss: 0.0754 - val_acc: 0.9842\n",
      "\n",
      "Epoch 00042: saving model to checkpoint.hdf5\n",
      "Epoch 43/100\n"
     ]
    },
    {
     "name": "stdout",
     "output_type": "stream",
     "text": [
      "136588/136588 [==============================] - 52s 381us/step - loss: 7.9207e-05 - acc: 1.0000 - val_loss: 0.0750 - val_acc: 0.9847\n",
      "\n",
      "Epoch 00043: saving model to checkpoint.hdf5\n",
      "Epoch 44/100\n",
      "136588/136588 [==============================] - 52s 380us/step - loss: 8.1701e-05 - acc: 1.0000 - val_loss: 0.0744 - val_acc: 0.9849\n",
      "\n",
      "Epoch 00044: saving model to checkpoint.hdf5\n",
      "Epoch 45/100\n",
      "136588/136588 [==============================] - 52s 382us/step - loss: 8.2507e-05 - acc: 1.0000 - val_loss: 0.0753 - val_acc: 0.9849\n",
      "\n",
      "Epoch 00045: saving model to checkpoint.hdf5\n",
      "Epoch 46/100\n",
      "136588/136588 [==============================] - 52s 381us/step - loss: 7.9984e-05 - acc: 1.0000 - val_loss: 0.0750 - val_acc: 0.9852\n",
      "\n",
      "Epoch 00046: saving model to checkpoint.hdf5\n",
      "Epoch 47/100\n",
      "136588/136588 [==============================] - 53s 386us/step - loss: 7.3502e-05 - acc: 1.0000 - val_loss: 0.0760 - val_acc: 0.9845\n",
      "\n",
      "Epoch 00047: saving model to checkpoint.hdf5\n",
      "Epoch 48/100\n",
      "136588/136588 [==============================] - 52s 380us/step - loss: 6.4819e-05 - acc: 1.0000 - val_loss: 0.0754 - val_acc: 0.9850\n",
      "\n",
      "Epoch 00048: saving model to checkpoint.hdf5\n",
      "Epoch 49/100\n",
      "136588/136588 [==============================] - 52s 380us/step - loss: 8.0647e-05 - acc: 1.0000 - val_loss: 0.0764 - val_acc: 0.9848\n",
      "\n",
      "Epoch 00049: saving model to checkpoint.hdf5\n",
      "Epoch 50/100\n",
      "136588/136588 [==============================] - 52s 382us/step - loss: 6.4541e-05 - acc: 1.0000 - val_loss: 0.0765 - val_acc: 0.9846\n",
      "\n",
      "Epoch 00050: saving model to checkpoint.hdf5\n",
      "Epoch 51/100\n",
      "136588/136588 [==============================] - 52s 382us/step - loss: 6.5740e-05 - acc: 1.0000 - val_loss: 0.0770 - val_acc: 0.9847\n",
      "\n",
      "Epoch 00051: saving model to checkpoint.hdf5\n",
      "Epoch 52/100\n",
      "136588/136588 [==============================] - 52s 382us/step - loss: 7.2538e-05 - acc: 1.0000 - val_loss: 0.0766 - val_acc: 0.9846\n",
      "\n",
      "Epoch 00052: saving model to checkpoint.hdf5\n",
      "Epoch 53/100\n",
      "136588/136588 [==============================] - 52s 384us/step - loss: 8.1957e-05 - acc: 1.0000 - val_loss: 0.0759 - val_acc: 0.9853\n",
      "\n",
      "Epoch 00053: saving model to checkpoint.hdf5\n",
      "Epoch 54/100\n",
      "136588/136588 [==============================] - 52s 382us/step - loss: 6.4747e-05 - acc: 1.0000 - val_loss: 0.0765 - val_acc: 0.9850\n",
      "\n",
      "Epoch 00054: saving model to checkpoint.hdf5\n",
      "Epoch 55/100\n",
      "136588/136588 [==============================] - 52s 381us/step - loss: 7.3194e-05 - acc: 1.0000 - val_loss: 0.0766 - val_acc: 0.9846\n",
      "\n",
      "Epoch 00055: saving model to checkpoint.hdf5\n",
      "Epoch 56/100\n",
      "136588/136588 [==============================] - 52s 383us/step - loss: 6.7721e-05 - acc: 1.0000 - val_loss: 0.0768 - val_acc: 0.9848\n",
      "\n",
      "Epoch 00056: saving model to checkpoint.hdf5\n",
      "Epoch 57/100\n",
      "136588/136588 [==============================] - 52s 379us/step - loss: 9.5778e-05 - acc: 1.0000 - val_loss: 0.0770 - val_acc: 0.9848\n",
      "\n",
      "Epoch 00057: saving model to checkpoint.hdf5\n",
      "Epoch 58/100\n",
      "136588/136588 [==============================] - 52s 380us/step - loss: 7.4821e-05 - acc: 1.0000 - val_loss: 0.0786 - val_acc: 0.9843\n",
      "\n",
      "Epoch 00058: saving model to checkpoint.hdf5\n",
      "Epoch 59/100\n",
      "136588/136588 [==============================] - 52s 384us/step - loss: 6.2142e-05 - acc: 1.0000 - val_loss: 0.0779 - val_acc: 0.9845\n",
      "\n",
      "Epoch 00059: saving model to checkpoint.hdf5\n",
      "Epoch 60/100\n",
      "136588/136588 [==============================] - 52s 381us/step - loss: 6.6562e-05 - acc: 1.0000 - val_loss: 0.0785 - val_acc: 0.9846\n",
      "\n",
      "Epoch 00060: saving model to checkpoint.hdf5\n",
      "Epoch 61/100\n",
      "136588/136588 [==============================] - 52s 380us/step - loss: 6.1211e-05 - acc: 1.0000 - val_loss: 0.0775 - val_acc: 0.9849\n",
      "\n",
      "Epoch 00061: saving model to checkpoint.hdf5\n",
      "Epoch 62/100\n",
      "136588/136588 [==============================] - 52s 381us/step - loss: 6.0342e-05 - acc: 1.0000 - val_loss: 0.0782 - val_acc: 0.9843\n",
      "\n",
      "Epoch 00062: saving model to checkpoint.hdf5\n",
      "Epoch 63/100\n",
      "136588/136588 [==============================] - 52s 381us/step - loss: 5.1968e-05 - acc: 1.0000 - val_loss: 0.0774 - val_acc: 0.9848\n",
      "\n",
      "Epoch 00063: saving model to checkpoint.hdf5\n",
      "Epoch 64/100\n",
      "136588/136588 [==============================] - 52s 382us/step - loss: 5.0442e-05 - acc: 1.0000 - val_loss: 0.0774 - val_acc: 0.9847\n",
      "\n",
      "Epoch 00064: saving model to checkpoint.hdf5\n",
      "Epoch 65/100\n",
      "136588/136588 [==============================] - 52s 384us/step - loss: 5.5934e-05 - acc: 1.0000 - val_loss: 0.0781 - val_acc: 0.9847\n",
      "\n",
      "Epoch 00065: saving model to checkpoint.hdf5\n",
      "Epoch 66/100\n",
      "136588/136588 [==============================] - 52s 381us/step - loss: 4.6957e-05 - acc: 1.0000 - val_loss: 0.0784 - val_acc: 0.9847\n",
      "\n",
      "Epoch 00066: saving model to checkpoint.hdf5\n",
      "Epoch 67/100\n",
      "136588/136588 [==============================] - 52s 381us/step - loss: 5.1590e-05 - acc: 1.0000 - val_loss: 0.0763 - val_acc: 0.9850\n",
      "\n",
      "Epoch 00067: saving model to checkpoint.hdf5\n",
      "Epoch 68/100\n",
      "136588/136588 [==============================] - 52s 381us/step - loss: 6.3270e-05 - acc: 1.0000 - val_loss: 0.0785 - val_acc: 0.9845\n",
      "\n",
      "Epoch 00068: saving model to checkpoint.hdf5\n",
      "Epoch 69/100\n",
      "136588/136588 [==============================] - 52s 380us/step - loss: 5.7306e-05 - acc: 1.0000 - val_loss: 0.0772 - val_acc: 0.9846\n",
      "\n",
      "Epoch 00069: saving model to checkpoint.hdf5\n",
      "Epoch 70/100\n",
      "136588/136588 [==============================] - 52s 381us/step - loss: 5.0468e-05 - acc: 1.0000 - val_loss: 0.0773 - val_acc: 0.9847\n",
      "\n",
      "Epoch 00070: saving model to checkpoint.hdf5\n",
      "Epoch 71/100\n",
      "136588/136588 [==============================] - 52s 384us/step - loss: 4.5065e-05 - acc: 1.0000 - val_loss: 0.0775 - val_acc: 0.9848\n",
      "\n",
      "Epoch 00071: saving model to checkpoint.hdf5\n",
      "Epoch 72/100\n",
      "136588/136588 [==============================] - 52s 382us/step - loss: 5.2791e-05 - acc: 1.0000 - val_loss: 0.0789 - val_acc: 0.9846\n",
      "\n",
      "Epoch 00072: saving model to checkpoint.hdf5\n",
      "Epoch 73/100\n",
      "136588/136588 [==============================] - 52s 381us/step - loss: 5.2874e-05 - acc: 1.0000 - val_loss: 0.0781 - val_acc: 0.9845\n",
      "\n",
      "Epoch 00073: saving model to checkpoint.hdf5\n",
      "Epoch 74/100\n",
      "136588/136588 [==============================] - 52s 382us/step - loss: 5.0217e-05 - acc: 1.0000 - val_loss: 0.0797 - val_acc: 0.9846\n",
      "\n",
      "Epoch 00074: saving model to checkpoint.hdf5\n",
      "Epoch 75/100\n",
      "136588/136588 [==============================] - 52s 382us/step - loss: 4.6792e-05 - acc: 1.0000 - val_loss: 0.0799 - val_acc: 0.9845\n",
      "\n",
      "Epoch 00075: saving model to checkpoint.hdf5\n",
      "Epoch 76/100\n",
      "136588/136588 [==============================] - 52s 382us/step - loss: 5.0517e-05 - acc: 1.0000 - val_loss: 0.0779 - val_acc: 0.9849\n",
      "\n",
      "Epoch 00076: saving model to checkpoint.hdf5\n",
      "Epoch 77/100\n",
      "136588/136588 [==============================] - 53s 385us/step - loss: 5.6464e-05 - acc: 1.0000 - val_loss: 0.0790 - val_acc: 0.9846\n",
      "\n",
      "Epoch 00077: saving model to checkpoint.hdf5\n",
      "Epoch 78/100\n",
      "136588/136588 [==============================] - 52s 381us/step - loss: 4.2832e-05 - acc: 1.0000 - val_loss: 0.0794 - val_acc: 0.9843\n",
      "\n",
      "Epoch 00078: ReduceLROnPlateau reducing learning rate to 0.0008100000384729356.\n",
      "\n",
      "Epoch 00078: saving model to checkpoint.hdf5\n",
      "Epoch 79/100\n",
      "136588/136588 [==============================] - 52s 380us/step - loss: 5.0727e-05 - acc: 1.0000 - val_loss: 0.0797 - val_acc: 0.9842\n",
      "\n",
      "Epoch 00079: saving model to checkpoint.hdf5\n",
      "Epoch 80/100\n",
      "136588/136588 [==============================] - 52s 382us/step - loss: 4.4002e-05 - acc: 1.0000 - val_loss: 0.0772 - val_acc: 0.9852\n",
      "\n",
      "Epoch 00080: saving model to checkpoint.hdf5\n",
      "Epoch 81/100\n",
      "136588/136588 [==============================] - 52s 381us/step - loss: 5.5478e-05 - acc: 1.0000 - val_loss: 0.0779 - val_acc: 0.9846\n",
      "\n",
      "Epoch 00081: saving model to checkpoint.hdf5\n",
      "Epoch 82/100\n",
      "136588/136588 [==============================] - 52s 381us/step - loss: 4.0882e-05 - acc: 1.0000 - val_loss: 0.0783 - val_acc: 0.9846\n",
      "\n",
      "Epoch 00082: saving model to checkpoint.hdf5\n",
      "Epoch 83/100\n",
      "136588/136588 [==============================] - 53s 385us/step - loss: 4.0998e-05 - acc: 1.0000 - val_loss: 0.0788 - val_acc: 0.9847\n",
      "\n",
      "Epoch 00083: saving model to checkpoint.hdf5\n",
      "Epoch 84/100\n",
      "136588/136588 [==============================] - 52s 381us/step - loss: 5.1432e-05 - acc: 1.0000 - val_loss: 0.0801 - val_acc: 0.9847\n",
      "\n",
      "Epoch 00084: saving model to checkpoint.hdf5\n",
      "Epoch 85/100\n",
      "136588/136588 [==============================] - 52s 381us/step - loss: 4.3066e-05 - acc: 1.0000 - val_loss: 0.0798 - val_acc: 0.9846\n",
      "\n",
      "Epoch 00085: saving model to checkpoint.hdf5\n",
      "Epoch 86/100\n",
      "136588/136588 [==============================] - 52s 380us/step - loss: 3.4209e-05 - acc: 1.0000 - val_loss: 0.0795 - val_acc: 0.9850\n",
      "\n",
      "Epoch 00086: saving model to checkpoint.hdf5\n",
      "Epoch 87/100\n",
      "136588/136588 [==============================] - 52s 380us/step - loss: 3.5813e-05 - acc: 1.0000 - val_loss: 0.0797 - val_acc: 0.9847\n",
      "\n",
      "Epoch 00087: saving model to checkpoint.hdf5\n",
      "Epoch 88/100\n",
      "136588/136588 [==============================] - 52s 379us/step - loss: 6.2306e-05 - acc: 1.0000 - val_loss: 0.0781 - val_acc: 0.9852\n",
      "\n",
      "Epoch 00088: saving model to checkpoint.hdf5\n",
      "Epoch 89/100\n",
      "136588/136588 [==============================] - 52s 384us/step - loss: 5.8371e-05 - acc: 1.0000 - val_loss: 0.0788 - val_acc: 0.9850\n",
      "\n",
      "Epoch 00089: saving model to checkpoint.hdf5\n",
      "Epoch 90/100\n",
      "136588/136588 [==============================] - 52s 380us/step - loss: 3.6668e-05 - acc: 1.0000 - val_loss: 0.0802 - val_acc: 0.9846\n",
      "\n",
      "Epoch 00090: saving model to checkpoint.hdf5\n",
      "Epoch 91/100\n",
      "136588/136588 [==============================] - 52s 381us/step - loss: 4.0129e-05 - acc: 1.0000 - val_loss: 0.0793 - val_acc: 0.9847\n",
      "\n",
      "Epoch 00091: saving model to checkpoint.hdf5\n",
      "Epoch 92/100\n",
      "136588/136588 [==============================] - 52s 382us/step - loss: 3.4875e-05 - acc: 1.0000 - val_loss: 0.0791 - val_acc: 0.9847\n",
      "\n",
      "Epoch 00092: saving model to checkpoint.hdf5\n",
      "Epoch 93/100\n",
      "136588/136588 [==============================] - 52s 379us/step - loss: 3.9388e-05 - acc: 1.0000 - val_loss: 0.0793 - val_acc: 0.9848\n",
      "\n",
      "Epoch 00093: saving model to checkpoint.hdf5\n",
      "Epoch 94/100\n",
      "136588/136588 [==============================] - 52s 380us/step - loss: 4.6802e-05 - acc: 1.0000 - val_loss: 0.0832 - val_acc: 0.9842\n",
      "\n",
      "Epoch 00094: saving model to checkpoint.hdf5\n",
      "Epoch 95/100\n",
      "136588/136588 [==============================] - 52s 382us/step - loss: 4.2107e-05 - acc: 1.0000 - val_loss: 0.0800 - val_acc: 0.9847\n",
      "\n",
      "Epoch 00095: saving model to checkpoint.hdf5\n",
      "Epoch 96/100\n",
      "136588/136588 [==============================] - 51s 377us/step - loss: 3.4455e-05 - acc: 1.0000 - val_loss: 0.0792 - val_acc: 0.9847\n",
      "\n",
      "Epoch 00096: saving model to checkpoint.hdf5\n",
      "Epoch 97/100\n",
      "136588/136588 [==============================] - 52s 382us/step - loss: 3.6282e-05 - acc: 1.0000 - val_loss: 0.0793 - val_acc: 0.9846\n",
      "\n",
      "Epoch 00097: saving model to checkpoint.hdf5\n",
      "Epoch 98/100\n",
      "136588/136588 [==============================] - 52s 381us/step - loss: 3.9547e-05 - acc: 1.0000 - val_loss: 0.0792 - val_acc: 0.9846\n",
      "\n",
      "Epoch 00098: saving model to checkpoint.hdf5\n",
      "Epoch 99/100\n",
      "136588/136588 [==============================] - 52s 381us/step - loss: 3.9247e-05 - acc: 1.0000 - val_loss: 0.0795 - val_acc: 0.9846\n",
      "\n",
      "Epoch 00099: saving model to checkpoint.hdf5\n",
      "Epoch 100/100\n",
      "136588/136588 [==============================] - 52s 381us/step - loss: 1.4082e-04 - acc: 1.0000 - val_loss: 0.0792 - val_acc: 0.9846\n",
      "\n",
      "Epoch 00100: saving model to checkpoint.hdf5\n"
     ]
    }
   ],
   "source": [
    "# Start to train model \n",
    "history = model.fit(X_train, y_train, \n",
    "                    batch_size=32, \n",
    "                    epochs=100, \n",
    "                    verbose=1, \n",
    "                    validation_data=(X_test, y_test),\n",
    "                    callbacks=[reduce_lr, checkpointer],\n",
    "                    shuffle=True)"
   ]
  },
  {
   "cell_type": "code",
   "execution_count": 36,
   "metadata": {},
   "outputs": [],
   "source": [
    "# save the model with h5py\n",
    "import h5py\n",
    "from keras.models import load_model\n",
    "model.save('paviaU_model_epochs100.h5')"
   ]
  },
  {
   "cell_type": "code",
   "execution_count": null,
   "metadata": {},
   "outputs": [],
   "source": [
    "from sklearn.metrics import cross_val_score\n",
    "from sklearn.cross_validation import KFold\n",
    "def baseline_model():\n",
    "        model = Sequential()\n",
    "\n",
    "        model.add(Conv2D(C1, (3, 3), activation='relu', input_shape=input_shape))\n",
    "        model.add(Conv2D(3*C1, (3, 3), activation='relu'))\n",
    "        model.add(Dropout(0.25))\n",
    "\n",
    "        model.add(Flatten())\n",
    "        model.add(Dense(6*numPCAcomponents, activation='relu'))\n",
    "        model.add(Dropout(0.5))\n",
    "        model.add(Dense(9, activation='softmax'))\n",
    "\n",
    "kfold = KFold(n_splits=10, random_state=seed)\n",
    "results = cross_val_score(pipeline, X_train,y_train, cv=kfold)"
   ]
  },
  {
   "cell_type": "code",
   "execution_count": 37,
   "metadata": {},
   "outputs": [
    {
     "data": {
      "image/png": "[encoded data removed]",
      "text/plain": [
       "<Figure size 432x288 with 1 Axes>"
      ]
     },
     "metadata": {},
     "output_type": "display_data"
    },
    {
     "data": {
      "image/png": "[encoded data removed]",
      "text/plain": [
       "<Figure size 432x288 with 1 Axes>"
      ]
     },
     "metadata": {},
     "output_type": "display_data"
    }
   ],
   "source": [
    "import matplotlib.pyplot as plt\n",
    "%matplotlib inline\n",
    "# summarize history for accuracy\n",
    "plt.plot(history.history['acc'])\n",
    "plt.plot(history.history['val_acc'])\n",
    "plt.title('model accuracy')\n",
    "plt.ylabel('accuracy')\n",
    "plt.xlabel('epoch')\n",
    "plt.grid(True)\n",
    "plt.legend(['train', 'test'], loc='upper left') \n",
    "plt.savefig(\"model_accuracy_100_paviou.svg\")\n",
    "plt.show()\n",
    "\n",
    "# summarize history for loss \n",
    "plt.plot(history.history['loss'])\n",
    "plt.plot(history.history['val_loss'])\n",
    "plt.title('model loss')\n",
    "plt.ylabel('loss')\n",
    "plt.xlabel('epoch')\n",
    "plt.grid(True)\n",
    "plt.legend(['train', 'test'], loc='upper left') \n",
    "plt.savefig(\"model_loss_100_paviou.svg\")\n",
    "plt.show()"
   ]
  },
  {
   "cell_type": "code",
   "execution_count": 39,
   "metadata": {},
   "outputs": [],
   "source": [
    "from sklearn.metrics import classification_report, confusion_matrix\n",
    "import itertools\n",
    "import scipy.io as sio"
   ]
  },
  {
   "cell_type": "code",
   "execution_count": 41,
   "metadata": {},
   "outputs": [],
   "source": [
    "# Get the model evaluation report, \n",
    "# include classification report, confusion matrix, Test_Loss, Test_accuracy\n",
    "target_names = ['Water','Trees','Asphalt','Self-Blocking Bricks','Bitumen','Tiles','Shadows','Meadows','Bare Soil']\n",
    "def reports(X_test,y_test):\n",
    "    Y_pred = model.predict(X_test)\n",
    "    y_pred = np.argmax(Y_pred, axis=1)\n",
    "\n",
    "    classification = classification_report(np.argmax(y_test, axis=1), y_pred, target_names=target_names)\n",
    "    confusion = confusion_matrix(np.argmax(y_test, axis=1), y_pred)\n",
    "    score = model.evaluate(X_test, y_test, batch_size=32)\n",
    "    Test_Loss = score[0]*100\n",
    "    Test_accuracy = score[1]*100\n",
    "    return classification, confusion, Test_Loss, Test_accuracy"
   ]
  },
  {
   "cell_type": "code",
   "execution_count": 43,
   "metadata": {},
   "outputs": [
    {
     "name": "stdout",
     "output_type": "stream",
     "text": [
      "8556/8556 [==============================] - 1s 150us/step\n",
      "Test loss 7.919281568153916 (%)\n",
      "Test accuracy 98.45722300140253 (%)\n",
      "classification result: \n",
      "                      precision    recall  f1-score   support\n",
      "\n",
      "               Water       0.99      0.99      0.99      1326\n",
      "               Trees       1.00      1.00      1.00      3730\n",
      "             Asphalt       0.94      0.86      0.90       420\n",
      "Self-Blocking Bricks       1.00      0.99      0.99       613\n",
      "             Bitumen       1.00      1.00      1.00       269\n",
      "               Tiles       0.99      1.00      0.99      1006\n",
      "             Shadows       0.98      1.00      0.99       266\n",
      "             Meadows       0.91      0.95      0.93       737\n",
      "           Bare Soil       1.00      1.00      1.00       189\n",
      "\n",
      "         avg / total       0.98      0.98      0.98      8556\n",
      "\n",
      "confusion matrix: \n",
      "[[1312    0    0    0    0    0    5    9    0]\n",
      " [   0 3720    0    1    0    9    0    0    0]\n",
      " [   0    1  363    0    0    0    0   56    0]\n",
      " [   0    2    0  607    0    3    0    1    0]\n",
      " [   0    0    0    0  269    0    0    0    0]\n",
      " [   0    5    0    0    0 1001    0    0    0]\n",
      " [   0    0    0    0    0    0  265    1    0]\n",
      " [  15    0   23    0    0    0    1  698    0]\n",
      " [   0    0    0    0    0    0    0    0  189]]\n"
     ]
    }
   ],
   "source": [
    "# load the model architecture and weights\n",
    "model = load_model('paviaU_model_epochs100.h5')\n",
    "\n",
    "# calculate result, loss, accuray and confusion matrix\n",
    "classification, confusion, Test_loss, Test_accuracy = reports(X_test,y_test)\n",
    "classification = str(classification)\n",
    "confusion_str = str(confusion)\n",
    "\n",
    "# show result and save to file\n",
    "print('Test loss {} (%)'.format(Test_loss))\n",
    "print('Test accuracy {} (%)'.format(Test_accuracy))\n",
    "print(\"classification result: \")\n",
    "print('{}'.format(classification))\n",
    "print(\"confusion matrix: \")\n",
    "print('{}'.format(confusion_str))\n",
    "file_name =\"WindowSize\" + str(windowSize) + \"PCA\" + str(numPCAcomponents) + \"testRatio\" + str(testRatio) +\".txt\"\n",
    "with open(file_name, 'w') as x_file:\n",
    "    x_file.write('Test loss {} (%)'.format(Test_loss))\n",
    "    x_file.write('\\n')\n",
    "    x_file.write('Test accuracy {} (%)'.format(Test_accuracy))\n",
    "    x_file.write('\\n')\n",
    "    x_file.write('\\n')\n",
    "    x_file.write(\" classification result: \\n\")\n",
    "    x_file.write('{}'.format(classification))\n",
    "    x_file.write('\\n')\n",
    "    x_file.write(\" confusion matrix: \\n\")\n",
    "    x_file.write('{}'.format(confusion_str))"
   ]
  },
  {
   "cell_type": "code",
   "execution_count": 44,
   "metadata": {},
   "outputs": [
    {
     "name": "stdout",
     "output_type": "stream",
     "text": [
      "Confusion matrix, without normalization\n",
      "[[1312    0    0    0    0    0    5    9    0]\n",
      " [   0 3720    0    1    0    9    0    0    0]\n",
      " [   0    1  363    0    0    0    0   56    0]\n",
      " [   0    2    0  607    0    3    0    1    0]\n",
      " [   0    0    0    0  269    0    0    0    0]\n",
      " [   0    5    0    0    0 1001    0    0    0]\n",
      " [   0    0    0    0    0    0  265    1    0]\n",
      " [  15    0   23    0    0    0    1  698    0]\n",
      " [   0    0    0    0    0    0    0    0  189]]\n"
     ]
    },
    {
     "data": {
      "image/png": "[encoded data removed]",
      "text/plain": [
       "<Figure size 720x720 with 2 Axes>"
      ]
     },
     "metadata": {},
     "output_type": "display_data"
    },
    {
     "name": "stdout",
     "output_type": "stream",
     "text": [
      "Normalized confusion matrix\n",
      "[[9.89441931e-01 0.00000000e+00 0.00000000e+00 0.00000000e+00\n",
      "  0.00000000e+00 0.00000000e+00 3.77073906e-03 6.78733032e-03\n",
      "  0.00000000e+00]\n",
      " [0.00000000e+00 9.97319035e-01 0.00000000e+00 2.68096515e-04\n",
      "  0.00000000e+00 2.41286863e-03 0.00000000e+00 0.00000000e+00\n",
      "  0.00000000e+00]\n",
      " [0.00000000e+00 2.38095238e-03 8.64285714e-01 0.00000000e+00\n",
      "  0.00000000e+00 0.00000000e+00 0.00000000e+00 1.33333333e-01\n",
      "  0.00000000e+00]\n",
      " [0.00000000e+00 3.26264274e-03 0.00000000e+00 9.90212072e-01\n",
      "  0.00000000e+00 4.89396411e-03 0.00000000e+00 1.63132137e-03\n",
      "  0.00000000e+00]\n",
      " [0.00000000e+00 0.00000000e+00 0.00000000e+00 0.00000000e+00\n",
      "  1.00000000e+00 0.00000000e+00 0.00000000e+00 0.00000000e+00\n",
      "  0.00000000e+00]\n",
      " [0.00000000e+00 4.97017893e-03 0.00000000e+00 0.00000000e+00\n",
      "  0.00000000e+00 9.95029821e-01 0.00000000e+00 0.00000000e+00\n",
      "  0.00000000e+00]\n",
      " [0.00000000e+00 0.00000000e+00 0.00000000e+00 0.00000000e+00\n",
      "  0.00000000e+00 0.00000000e+00 9.96240602e-01 3.75939850e-03\n",
      "  0.00000000e+00]\n",
      " [2.03527815e-02 0.00000000e+00 3.12075984e-02 0.00000000e+00\n",
      "  0.00000000e+00 0.00000000e+00 1.35685210e-03 9.47082768e-01\n",
      "  0.00000000e+00]\n",
      " [0.00000000e+00 0.00000000e+00 0.00000000e+00 0.00000000e+00\n",
      "  0.00000000e+00 0.00000000e+00 0.00000000e+00 0.00000000e+00\n",
      "  1.00000000e+00]]\n"
     ]
    },
    {
     "data": {
      "image/png": "[encoded data removed]",
      "text/plain": [
       "<Figure size 1080x1080 with 2 Axes>"
      ]
     },
     "metadata": {},
     "output_type": "display_data"
    }
   ],
   "source": [
    "import matplotlib.pyplot as plt\n",
    "%matplotlib inline\n",
    "def plot_confusion_matrix(cm, classes,\n",
    "                          normalize=False,\n",
    "                          title='Confusion matrix',\n",
    "                          cmap=plt.get_cmap(\"Blues\")):\n",
    "    \"\"\"\n",
    "    This function prints and plots the confusion matrix.\n",
    "    Normalization can be applied by setting `normalize=True`.\n",
    "    \"\"\"\n",
    "    Normalized = cm.astype('float') / cm.sum(axis=1)[:, np.newaxis]\n",
    "    if normalize:\n",
    "        cm = Normalized\n",
    "        print(\"Normalized confusion matrix\")\n",
    "    else:\n",
    "        print('Confusion matrix, without normalization')\n",
    "\n",
    "    print(cm)\n",
    "\n",
    "    plt.imshow(Normalized, interpolation='nearest', cmap=cmap)\n",
    "    plt.colorbar()\n",
    "    plt.title(title)\n",
    "    tick_marks = np.arange(len(classes))\n",
    "    plt.xticks(tick_marks, classes, rotation=90)\n",
    "    plt.yticks(tick_marks, classes)\n",
    "\n",
    "    fmt = '.4f' if normalize else 'd'\n",
    "    for i, j in itertools.product(range(cm.shape[0]), range(cm.shape[1])):\n",
    "        thresh = cm[i].max() / 2.\n",
    "        plt.text(j, i, format(cm[i, j], fmt),\n",
    "                 horizontalalignment=\"center\",\n",
    "                 color=\"white\" if cm[i, j] > thresh else \"black\")\n",
    "\n",
    "    plt.tight_layout()\n",
    "    plt.ylabel('True label')\n",
    "    plt.xlabel('Predicted label')\n",
    "\n",
    "\n",
    "plt.figure(figsize=(10,10))\n",
    "plot_confusion_matrix(confusion, classes=target_names, normalize=False, \n",
    "                      title='Confusion matrix, without normalization')\n",
    "plt.savefig(\"confusion_matrix_without_normalization.svg\")\n",
    "plt.show()\n",
    "plt.figure(figsize=(15,15))\n",
    "plot_confusion_matrix(confusion, classes=target_names, normalize=True, \n",
    "                      title='Normalized confusion matrix')\n",
    "plt.savefig(\"confusion_matrix_with_normalization.svg\")\n",
    "plt.show()"
   ]
  },
  {
   "cell_type": "code",
   "execution_count": 46,
   "metadata": {},
   "outputs": [],
   "source": [
    "# load the original image\n",
    "X, y = loadPaviaUData()\n",
    "X, pca = applyPCA(X, numComponents=numPCAcomponents)"
   ]
  },
  {
   "cell_type": "code",
   "execution_count": 47,
   "metadata": {},
   "outputs": [],
   "source": [
    "def Patch(data,height_index,width_index):\n",
    "    #transpose_array = data.transpose((2,0,1))\n",
    "    #print transpose_array.shape\n",
    "    height_slice = slice(height_index, height_index+PATCH_SIZE)\n",
    "    width_slice = slice(width_index, width_index+PATCH_SIZE)\n",
    "    patch = data[height_slice, width_slice, :]\n",
    "    \n",
    "    return patch\n",
    "height = y.shape[0]\n",
    "width = y.shape[1]\n",
    "PATCH_SIZE = 5\n",
    "numComponents = 30\n",
    "\n",
    "# calculate the predicted image\n",
    "outputs = np.zeros((height,width))\n",
    "for i in range(height-PATCH_SIZE+1):\n",
    "    for j in range(width-PATCH_SIZE+1):\n",
    "        p = int(PATCH_SIZE/2)\n",
    "        # print(y[i+p][j+p])\n",
    "        # target = int(y[i+PATCH_SIZE/2, j+PATCH_SIZE/2])\n",
    "        target = y[i+p][j+p]\n",
    "        if target == 0 :\n",
    "            continue\n",
    "        else :\n",
    "            image_patch=Patch(X,i,j)\n",
    "            # print (image_patch.shape)\n",
    "            X_test_image = image_patch.reshape(1,image_patch.shape[2],image_patch.shape[0],image_patch.shape[1]).astype('float32')                                   \n",
    "            prediction = (model.predict_classes(X_test_image))                         \n",
    "            outputs[i+p][j+p] = prediction+1"
   ]
  },
  {
   "cell_type": "code",
   "execution_count": 48,
   "metadata": {},
   "outputs": [
    {
     "data": {
      "image/png": "[encoded data removed]",
      "text/plain": [
       "<Figure size 720x720 with 1 Axes>"
      ]
     },
     "metadata": {},
     "output_type": "display_data"
    }
   ],
   "source": [
    "ground_truth = imshow(classes=y, figsize=(10, 10))"
   ]
  },
  {
   "cell_type": "code",
   "execution_count": 49,
   "metadata": {},
   "outputs": [
    {
     "data": {
      "image/png": "[encoded data removed]",
      "text/plain": [
       "<Figure size 720x720 with 1 Axes>"
      ]
     },
     "metadata": {},
     "output_type": "display_data"
    }
   ],
   "source": [
    "predict_image = imshow(classes=outputs.astype(int), figsize=(10, 10))"
   ]
  },
  {
   "cell_type": "code",
   "execution_count": null,
   "metadata": {},
   "outputs": [],
   "source": []
  }
 ],
 "metadata": {
  "kernelspec": {
   "display_name": "Python 2",
   "language": "python",
   "name": "python2"
  },
  "language_info": {
   "codemirror_mode": {
    "name": "ipython",
    "version": 2
   },
   "file_extension": ".py",
   "mimetype": "text/x-python",
   "name": "python",
   "nbconvert_exporter": "python",
   "pygments_lexer": "ipython2",
   "version": "2.7.14"
  }
 },
 "nbformat": 4,
 "nbformat_minor": 2
}
